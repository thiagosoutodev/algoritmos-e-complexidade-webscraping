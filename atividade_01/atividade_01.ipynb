{
  "cells": [
    {
      "cell_type": "code",
      "execution_count": null,
      "metadata": {
        "colab": {
          "base_uri": "https://localhost:8080/"
        },
        "id": "y_TkdpoZVdVJ",
        "outputId": "019b21d2-2444-4dac-b89c-5fe70d14ea4e"
      },
      "outputs": [
        {
          "name": "stdout",
          "output_type": "stream",
          "text": [
            "Requirement already satisfied: requests in /usr/local/lib/python3.12/dist-packages (2.32.4)\n",
            "Requirement already satisfied: beautifulsoup4 in /usr/local/lib/python3.12/dist-packages (4.13.5)\n",
            "Requirement already satisfied: charset_normalizer<4,>=2 in /usr/local/lib/python3.12/dist-packages (from requests) (3.4.3)\n",
            "Requirement already satisfied: idna<4,>=2.5 in /usr/local/lib/python3.12/dist-packages (from requests) (3.10)\n",
            "Requirement already satisfied: urllib3<3,>=1.21.1 in /usr/local/lib/python3.12/dist-packages (from requests) (2.5.0)\n",
            "Requirement already satisfied: certifi>=2017.4.17 in /usr/local/lib/python3.12/dist-packages (from requests) (2025.8.3)\n",
            "Requirement already satisfied: soupsieve>1.2 in /usr/local/lib/python3.12/dist-packages (from beautifulsoup4) (2.8)\n",
            "Requirement already satisfied: typing-extensions>=4.0.0 in /usr/local/lib/python3.12/dist-packages (from beautifulsoup4) (4.15.0)\n"
          ]
        }
      ],
      "source": [
        "!pip install requests beautifulsoup4"
      ]
    },
    {
      "cell_type": "code",
      "execution_count": null,
      "metadata": {
        "id": "d_iK25rYVp2D"
      },
      "outputs": [],
      "source": [
        "import requests\n",
        "from bs4 import BeautifulSoup\n",
        "import pandas as pd"
      ]
    },
    {
      "cell_type": "markdown",
      "metadata": {
        "id": "XpJVZPMqW2cD"
      },
      "source": [
        "# Atividade 1"
      ]
    },
    {
      "cell_type": "code",
      "execution_count": null,
      "metadata": {
        "colab": {
          "base_uri": "https://localhost:8080/"
        },
        "id": "VnkJNsEpWiaW",
        "outputId": "63894234-b9e8-4c18-ed74-fcf06447fe8f"
      },
      "outputs": [
        {
          "name": "stdout",
          "output_type": "stream",
          "text": [
            "                                               Título    Preço Disponibilidade\n",
            "0                                A Light in the Attic  Â£51.77             Sim\n",
            "1                                  Tipping the Velvet  Â£53.74             Sim\n",
            "2                                          Soumission  Â£50.10             Sim\n",
            "3                                       Sharp Objects  Â£47.82             Sim\n",
            "4               Sapiens: A Brief History of Humankind  Â£54.23             Sim\n",
            "5                                     The Requiem Red  Â£22.65             Sim\n",
            "6   The Dirty Little Secrets of Getting Your Dream...  Â£33.34             Sim\n",
            "7   The Coming Woman: A Novel Based on the Life of...  Â£17.93             Sim\n",
            "8   The Boys in the Boat: Nine Americans and Their...  Â£22.60             Sim\n",
            "9                                     The Black Maria  Â£52.15             Sim\n",
            "10     Starving Hearts (Triangular Trade Trilogy, #1)  Â£13.99             Sim\n",
            "11                              Shakespeare's Sonnets  Â£20.66             Sim\n",
            "12                                        Set Me Free  Â£17.46             Sim\n",
            "13  Scott Pilgrim's Precious Little Life (Scott Pi...  Â£52.29             Sim\n",
            "14                          Rip it Up and Start Again  Â£35.02             Sim\n",
            "15  Our Band Could Be Your Life: Scenes from the A...  Â£57.25             Sim\n",
            "16                                               Olio  Â£23.88             Sim\n",
            "17  Mesaerion: The Best Science Fiction Stories 18...  Â£37.59             Sim\n",
            "18                       Libertarianism for Beginners  Â£51.33             Sim\n",
            "19                            It's Only the Himalayas  Â£45.17             Sim\n",
            "\n",
            "Detalhes dos livros salvos em lista_de_livros.csv\n"
          ]
        }
      ],
      "source": [
        "# URL da página de livros\n",
        "url = \"https://books.toscrape.com/index.html\"\n",
        "response = requests.get(url)\n",
        "\n",
        "# Criar o objeto BeautifulSoup para fazer o parsing do HTML\n",
        "soup = BeautifulSoup(response.text, \"html.parser\")\n",
        "\n",
        "# Encontrar todos os anúncios de livros na página\n",
        "book_ads = soup.find_all(\"article\", class_=\"product_pod\")\n",
        "\n",
        "# Lista para armazenar os dados dos livros\n",
        "books_list = []\n",
        "\n",
        "for book_ad in book_ads:\n",
        "    title = book_ad.find(\"h3\").find(\"a\")[\"title\"]\n",
        "    price = book_ad.find(\"p\", class_=\"price_color\").text.strip()\n",
        "\n",
        "    in_stock = \"Não\"\n",
        "    if book_ad.find(\"p\", class_=\"instock availability\").text.strip() == \"In stock\":\n",
        "      in_stock = \"Sim\"\n",
        "\n",
        "    # Adiciona os dados do livro à lista\n",
        "    books_list.append({\n",
        "        \"Título\": title,\n",
        "        \"Preço\": price,\n",
        "        \"Disponibilidade\": in_stock\n",
        "    })\n",
        "\n",
        "# Criar um DataFrame com os dados e salvar em um arquivo CSV\n",
        "df_books = pd.DataFrame(books_list)\n",
        "print(df_books)\n",
        "df_books.to_csv(\"lista_de_livros.csv\", index=False)\n",
        "\n",
        "print(\"\\nDetalhes dos livros salvos em lista_de_livros.csv\")\n"
      ]
    }
  ],
  "metadata": {
    "colab": {
      "provenance": []
    },
    "kernelspec": {
      "display_name": "Python 3",
      "name": "python3"
    },
    "language_info": {
      "name": "python"
    }
  },
  "nbformat": 4,
  "nbformat_minor": 0
}
