{
  "nbformat": 4,
  "nbformat_minor": 0,
  "metadata": {
    "colab": {
      "provenance": []
    },
    "kernelspec": {
      "name": "python3",
      "display_name": "Python 3"
    },
    "language_info": {
      "name": "python"
    }
  },
  "cells": [
    {
      "cell_type": "code",
      "execution_count": 1,
      "metadata": {
        "colab": {
          "base_uri": "https://localhost:8080/"
        },
        "id": "y_TkdpoZVdVJ",
        "outputId": "70438353-2f75-48eb-e58b-8087e21c3686"
      },
      "outputs": [
        {
          "output_type": "stream",
          "name": "stdout",
          "text": [
            "Requirement already satisfied: requests in /usr/local/lib/python3.12/dist-packages (2.32.4)\n",
            "Requirement already satisfied: beautifulsoup4 in /usr/local/lib/python3.12/dist-packages (4.13.5)\n",
            "Requirement already satisfied: charset_normalizer<4,>=2 in /usr/local/lib/python3.12/dist-packages (from requests) (3.4.3)\n",
            "Requirement already satisfied: idna<4,>=2.5 in /usr/local/lib/python3.12/dist-packages (from requests) (3.10)\n",
            "Requirement already satisfied: urllib3<3,>=1.21.1 in /usr/local/lib/python3.12/dist-packages (from requests) (2.5.0)\n",
            "Requirement already satisfied: certifi>=2017.4.17 in /usr/local/lib/python3.12/dist-packages (from requests) (2025.8.3)\n",
            "Requirement already satisfied: soupsieve>1.2 in /usr/local/lib/python3.12/dist-packages (from beautifulsoup4) (2.8)\n",
            "Requirement already satisfied: typing-extensions>=4.0.0 in /usr/local/lib/python3.12/dist-packages (from beautifulsoup4) (4.15.0)\n"
          ]
        }
      ],
      "source": [
        "!pip install requests beautifulsoup4"
      ]
    },
    {
      "cell_type": "code",
      "source": [
        "import requests\n",
        "from bs4 import BeautifulSoup\n",
        "import pandas as pd"
      ],
      "metadata": {
        "id": "d_iK25rYVp2D"
      },
      "execution_count": 2,
      "outputs": []
    },
    {
      "cell_type": "markdown",
      "source": [
        "# Atividade 2"
      ],
      "metadata": {
        "id": "XpJVZPMqW2cD"
      }
    },
    {
      "cell_type": "code",
      "source": [
        "# URL da página de notícias\n",
        "url = \"https://g1.globo.com/\"\n",
        "response = requests.get(url)\n",
        "\n",
        "# Criar o objeto BeautifulSoup para fazer o parsing do HTML\n",
        "soup = BeautifulSoup(response.text, \"html.parser\")\n",
        "\n",
        "# Encontrar todos as manchetes na página\n",
        "news_divs = soup.find_all(\"div\", class_=\"feed-post-body\")\n",
        "\n",
        "# Lista para armazenar os textos das manchetes\n",
        "news_list = []\n",
        "\n",
        "for news_div in news_divs:\n",
        "    anchor_tag = news_div.find(\"h2\").find(\"a\")\n",
        "\n",
        "    headline_title = anchor_tag.find(\"p\").text.strip()\n",
        "\n",
        "    news_link = anchor_tag.get(\"href\")\n",
        "\n",
        "    news_list.append({\n",
        "        \"title\": headline_title,\n",
        "        \"link\": news_link\n",
        "    })\n",
        "\n",
        "# Imprime no console a lista de títulos de manchetes\n",
        "for headline_title in news_list:\n",
        "  print(f'- Título: {headline_title[\"title\"]};')\n",
        "\n",
        "# Criar um DataFrame com os dados e salvar em um arquivo CSV\n",
        "df_headlines = pd.DataFrame(news_list)\n",
        "print(df_headlines)\n",
        "df_headlines.to_csv(\"lista_de_noticias.csv\", index=False)\n",
        "\n",
        "print(\"\\nDetalhes das notícias salvos em lista_de_noticias.csv\")\n"
      ],
      "metadata": {
        "colab": {
          "base_uri": "https://localhost:8080/"
        },
        "id": "VnkJNsEpWiaW",
        "outputId": "a30f6964-7a6d-4999-dfc8-6a0253d13e35"
      },
      "execution_count": 8,
      "outputs": [
        {
          "output_type": "stream",
          "name": "stdout",
          "text": [
            "- Título: STF tem maioria para condenar Braga Netto por abolição do Estado de Direito;\n",
            "- Título: Fux vota para absolver Augusto Heleno de todos os cinco crimes;\n",
            "- Título: Placar do julgamento: veja como votaram os ministros até agora;\n",
            "- Título: Fux fala em 'incompetência absoluta' do STF e defende anular processo;\n",
            "- Título: Aliados de Bolsonaro comparam voto de Fux à tese inicial da defesa;\n",
            "- Título: Julgamento no STF;\n",
            "- Título: Moraes autoriza Bolsonaro a realizar procedimento médico;\n",
            "- Título: Fux brinca com Dino antes do voto; veja VÍDEOS do 4º dia de julgamento;\n",
            "- Título: Ativista aliado de Trump, Charlie Kirk morre baleado em universidade;\n",
            "                                               title  \\\n",
            "0  STF tem maioria para condenar Braga Netto por ...   \n",
            "1  Fux vota para absolver Augusto Heleno de todos...   \n",
            "2  Placar do julgamento: veja como votaram os min...   \n",
            "3  Fux fala em 'incompetência absoluta' do STF e ...   \n",
            "4  Aliados de Bolsonaro comparam voto de Fux à te...   \n",
            "5                                  Julgamento no STF   \n",
            "6  Moraes autoriza Bolsonaro a realizar procedime...   \n",
            "7  Fux brinca com Dino antes do voto; veja VÍDEOS...   \n",
            "8  Ativista aliado de Trump, Charlie Kirk morre b...   \n",
            "\n",
            "                                                link  \n",
            "0  https://g1.globo.com/politica/noticia/2025/09/...  \n",
            "1  https://g1.globo.com/politica/noticia/2025/09/...  \n",
            "2  https://g1.globo.com/politica/noticia/2025/09/...  \n",
            "3  https://g1.globo.com/politica/noticia/2025/09/...  \n",
            "4  https://g1.globo.com/politica/blog/andreia-sad...  \n",
            "5                                               None  \n",
            "6  https://g1.globo.com/politica/noticia/2025/09/...  \n",
            "7  https://g1.globo.com/politica/playlist/videos-...  \n",
            "8  https://g1.globo.com/mundo/noticia/2025/09/10/...  \n",
            "\n",
            "Detalhes das notícias salvos em lista_de_noticias.csv\n"
          ]
        }
      ]
    }
  ]
}